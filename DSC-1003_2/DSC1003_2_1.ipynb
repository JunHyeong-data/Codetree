{
  "nbformat": 4,
  "nbformat_minor": 0,
  "metadata": {
    "colab": {
      "provenance": [],
      "authorship_tag": "ABX9TyPFMR1hMpAPjV+ZWvbAdTnT",
      "include_colab_link": true
    },
    "kernelspec": {
      "name": "python3",
      "display_name": "Python 3"
    },
    "language_info": {
      "name": "python"
    }
  },
  "cells": [
    {
      "cell_type": "markdown",
      "metadata": {
        "id": "view-in-github",
        "colab_type": "text"
      },
      "source": [
        "<a href=\"https://colab.research.google.com/github/JunHyeong-data/Codetree/blob/main/DSC-1003_2/DSC1003_2_1.ipynb\" target=\"_parent\"><img src=\"https://colab.research.google.com/assets/colab-badge.svg\" alt=\"Open In Colab\"/></a>"
      ]
    },
    {
      "cell_type": "code",
      "execution_count": null,
      "metadata": {
        "colab": {
          "base_uri": "https://localhost:8080/"
        },
        "id": "6Ts6zt9ZrtNb",
        "outputId": "1ed8d40a-f293-4210-a727-e1dc15507c8f"
      },
      "outputs": [
        {
          "output_type": "execute_result",
          "data": {
            "text/plain": [
              "100"
            ]
          },
          "metadata": {},
          "execution_count": 4
        }
      ],
      "source": [
        "#변수이름 = 값\n",
        "x = 100\n",
        "x"
      ]
    },
    {
      "cell_type": "code",
      "source": [
        "import sys\n",
        "# 정수 객체 생성\n",
        "x = 42\n",
        "# 객체의 타입 확인\n",
        "print(f\"타입: {type(x)}\")\n",
        "# 객체의 고유 id 확인\n",
        "print(f\"id(메모리주소): {id(x)}\")\n",
        "# 객체가 포함하는 값 확인\n",
        "print(f\"값: {x}\")\n",
        "# 객체의 참조 횟수 확인\n",
        "print(f\"참조 횟수: {sys.getrefcount(x)}\")"
      ],
      "metadata": {
        "colab": {
          "base_uri": "https://localhost:8080/"
        },
        "id": "GnoVu-2jwcZ3",
        "outputId": "74e3a88c-9ab2-4370-d0b5-1444a745e375"
      },
      "execution_count": null,
      "outputs": [
        {
          "output_type": "stream",
          "name": "stdout",
          "text": [
            "타입: <class 'int'>\n",
            "id(메모리주소): 10752168\n",
            "값: 42\n",
            "참조 횟수: 1000000464\n"
          ]
        }
      ]
    },
    {
      "cell_type": "code",
      "source": [
        "# 불변 객체\n",
        "a = 10\n",
        "print(id(a))\n",
        "a = a + 1\n",
        "print(id(a))"
      ],
      "metadata": {
        "colab": {
          "base_uri": "https://localhost:8080/"
        },
        "id": "LKOQE016yAl3",
        "outputId": "157929ff-8534-4ad5-fb28-cbfe1d01872f"
      },
      "execution_count": null,
      "outputs": [
        {
          "output_type": "stream",
          "name": "stdout",
          "text": [
            "10751144\n",
            "10751176\n"
          ]
        }
      ]
    },
    {
      "cell_type": "code",
      "source": [
        "# 가변 객체\n",
        "lst = [1,2,3]\n",
        "print(id(lst))\n",
        "lst.append(4)\n",
        "print(id(lst))"
      ],
      "metadata": {
        "colab": {
          "base_uri": "https://localhost:8080/"
        },
        "id": "B5ND_BGDzRSX",
        "outputId": "1b0cd7f7-9690-4394-c8aa-f52643e44e9d"
      },
      "execution_count": null,
      "outputs": [
        {
          "output_type": "stream",
          "name": "stdout",
          "text": [
            "139725240419712\n",
            "139725240419712\n"
          ]
        }
      ]
    },
    {
      "cell_type": "markdown",
      "source": [],
      "metadata": {
        "id": "skL4xTAYvdvw"
      }
    },
    {
      "cell_type": "code",
      "source": [
        "#불변객체를 가변처럼 다루는 방법\n",
        "immutable_list = (1,2,[3,4])\n",
        "print(id(immutable_list))\n",
        "\n",
        "immutable_list[2].append(5)\n",
        "print(id(immutable_list))"
      ],
      "metadata": {
        "colab": {
          "base_uri": "https://localhost:8080/"
        },
        "id": "nOv_4c1Q1pxu",
        "outputId": "5e86a870-3ce0-48a7-f80b-5476e008ae13"
      },
      "execution_count": null,
      "outputs": [
        {
          "output_type": "stream",
          "name": "stdout",
          "text": [
            "139725694274624\n",
            "139725694274624\n"
          ]
        }
      ]
    },
    {
      "cell_type": "code",
      "source": [
        "x = 10   # x는 정수 10을 가리킵니다.\n",
        "print(id(x))\n",
        "x = x + 1 # x의 값을 변경하려고 하면 새로운 객체가 생성됩니다.\n",
        "print(id(x))\n",
        "y = 10\n",
        "print(id(y))\n"
      ],
      "metadata": {
        "colab": {
          "base_uri": "https://localhost:8080/"
        },
        "id": "wPus3yF222Ju",
        "outputId": "48d0cae4-ca9e-4d53-fff5-d0011527d0cc"
      },
      "execution_count": null,
      "outputs": [
        {
          "output_type": "stream",
          "name": "stdout",
          "text": [
            "10751144\n",
            "10751176\n",
            "10751144\n"
          ]
        }
      ]
    },
    {
      "cell_type": "code",
      "source": [
        "# 변수를 복사할 때\n",
        "x = 3\n",
        "y = x # 변수 y에 변수 x의 참조값이 복사된다\n",
        "print(id(x))\n",
        "print(id(y)) # 같은 주소를 가리킨다\n",
        "y = 10\n",
        "print(id(y))"
      ],
      "metadata": {
        "colab": {
          "base_uri": "https://localhost:8080/"
        },
        "id": "N6j5flr93Ybm",
        "outputId": "4c3ac636-c9f1-4594-ff9f-df760d6d0490"
      },
      "execution_count": null,
      "outputs": [
        {
          "output_type": "stream",
          "name": "stdout",
          "text": [
            "10750920\n",
            "10750920\n",
            "10751144\n"
          ]
        }
      ]
    }
  ]
}